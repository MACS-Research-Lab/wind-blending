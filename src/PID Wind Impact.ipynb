{
 "cells": [
  {
   "cell_type": "markdown",
   "id": "38e419f2-c4dc-435f-8218-732577a45803",
   "metadata": {},
   "source": [
    "# Wind Impact on PID Performance\n",
    "\n",
    "How robust is the classic cascaded PID architecture to wind? In this notebook, we aim to find that out. We use expert-tuned PID parameters to run an octorotor UAV in a 100x100m square trajectory."
   ]
  },
  {
   "cell_type": "code",
   "execution_count": 39,
   "id": "1edcd168-276a-4926-8039-ebc03390ee43",
   "metadata": {},
   "outputs": [],
   "source": [
    "from systems.long_multirotor import LongTrajEnv\n",
    "\n",
    "import notebook_setup\n",
    "from typing import Union, Iterable, List\n",
    "from copy import deepcopy\n",
    "import matplotlib.pyplot as plt\n",
    "import seaborn as sns\n",
    "import numpy as np\n",
    "import pandas as pd\n",
    "import torch\n",
    "import torch.nn as nn\n",
    "from tqdm.autonotebook import tqdm, trange\n",
    "import optuna\n",
    "from scipy.stats import pearsonr\n",
    "\n",
    "from rl import learn_rl, transform_rl_policy, evaluate_rl, PPO, load_agent\n",
    "from multirotor.simulation import Multirotor\n",
    "from multirotor.helpers import DataLog\n",
    "from multirotor.visualize import plot_datalog\n",
    "from multirotor.controller import Controller\n",
    "from multirotor.trajectories import Trajectory, GuidedTrajectory\n",
    "from multirotor.controller.scurves import SCurveController\n",
    "from multirotor.coords import body_to_inertial, inertial_to_body, direction_cosine_matrix, euler_to_angular_rate\n",
    "from systems.multirotor import MultirotorTrajEnv, VP\n",
    "from multirotor.controller import (\n",
    "    AltController, AltRateController,\n",
    "    PosController, AttController,\n",
    "    VelController, RateController,\n",
    "    Controller\n",
    ")\n",
    "from scripts.opt_pidcontroller import (\n",
    "    get_controller, make_disturbance_fn,\n",
    "    apply_params as apply_params_pid, get_study as get_study_pid\n",
    ")\n",
    "from scripts.opt_multirotorenv import apply_params, get_study, get_established_controller"
   ]
  },
  {
   "cell_type": "code",
   "execution_count": 40,
   "id": "cc4f6bdd-ac76-4742-a1e6-a1f3096a5d95",
   "metadata": {},
   "outputs": [],
   "source": [
    "def convert_wind(wind_vector, multirotor: Multirotor):\n",
    "        dcm = direction_cosine_matrix(*multirotor.orientation)\n",
    "        return inertial_to_body(wind_vector, dcm), 0"
   ]
  },
  {
   "cell_type": "code",
   "execution_count": 41,
   "id": "137a018f-3d9a-4d8f-9bbf-1a28f470041d",
   "metadata": {},
   "outputs": [],
   "source": [
    "def get_env(params={}, scurve=False, **kwargs):  \n",
    "    kw = dict(\n",
    "        safety_radius=10,\n",
    "        vp=VP,get_controller_fn=lambda m: get_established_controller(m),\n",
    "        steps_u=50,\n",
    "        scaling_factor=0.5,\n",
    "        disturbance_fn=lambda m: params['wind_vector'],\n",
    "        proximity=2,\n",
    "        seed=0)\n",
    "    return MultirotorTrajEnv(**kw)"
   ]
  },
  {
   "cell_type": "code",
   "execution_count": 42,
   "id": "bbff4beb-d192-4854-b7f2-cc09a12e75da",
   "metadata": {},
   "outputs": [],
   "source": [
    "square_np = np.array([[100,0,0], [100,100,0], [0,100,0], [0,0,0]])\n",
    "square_traj = Trajectory(None, points=square_np, resolution=20)\n",
    "square_wpts = square_traj.generate_trajectory(curr_pos=np.array([0,0,0]))"
   ]
  },
  {
   "cell_type": "code",
   "execution_count": 43,
   "id": "a0d9847f-79fe-4c7a-889f-5733a30cc5b9",
   "metadata": {},
   "outputs": [],
   "source": [
    "def get_tte(initial_pos: tuple, waypoints: np.ndarray, x: np.ndarray, y:np.ndarray, z:np.ndarray) -> np.ndarray:\n",
    "        \"\"\"\n",
    "        Calculates the trajectory tracking error. \n",
    "        The distance between the current point and the vector between previous and next wp. Uses ||v1 x v2|| / ||v1||.\n",
    "\n",
    "        Parameters\n",
    "        ----------\n",
    "        initial_pos : tuple  \n",
    "            the initial position of the UAV.\n",
    "        waypoints : np.ndarray \n",
    "            the reference positions at each point in time.\n",
    "        x : np.ndarray \n",
    "            the x positions of the UAV.\n",
    "        y : np.ndarray \n",
    "            the y positions of the UAV.\n",
    "        z : np.ndarray\n",
    "            the z positions of the UAV.\n",
    "\n",
    "        Returns\n",
    "        -------\n",
    "        np.ndarray \n",
    "            the trajectory tracking error at each point in time.\n",
    "        \"\"\"\n",
    "        ttes = []\n",
    "        prev = initial_pos\n",
    "        for i, waypoint in enumerate(waypoints):\n",
    "            if i > 0 and not np.array_equal(waypoints[i-1], waypoints[i]):\n",
    "                prev = waypoints[i-1]\n",
    "\n",
    "            v1 = waypoint - prev\n",
    "            v2 = np.array([x[i],y[i],z[i]]) - prev\n",
    "            tte = np.linalg.norm(np.cross(v1, v2)) / np.linalg.norm(v1)\n",
    "            ttes.append(tte)\n",
    "                \n",
    "        return np.array(ttes)"
   ]
  },
  {
   "cell_type": "code",
   "execution_count": 44,
   "id": "81bce838-92c0-49a5-91d4-fa8032876474",
   "metadata": {},
   "outputs": [],
   "source": [
    "def completed_mission(waypoints: np.ndarray, x: np.ndarray, y: np.ndarray, z: np.ndarray, radius: float = 0.65):\n",
    "        for waypoint in waypoints:\n",
    "            reached_waypoint = False\n",
    "\n",
    "            for position in zip(x,y,z):\n",
    "                dist = np.linalg.norm(waypoint - position)\n",
    "\n",
    "                if dist <= radius:\n",
    "                    reached_waypoint = True\n",
    "                    break\n",
    "\n",
    "            if not reached_waypoint:\n",
    "                return False\n",
    "            \n",
    "        return True"
   ]
  },
  {
   "cell_type": "code",
   "execution_count": 45,
   "id": "b22b1d5f-5f9e-4969-a678-ec6a62417c15",
   "metadata": {},
   "outputs": [],
   "source": [
    "def run_trajectory(wind_vector: np.ndarray):\n",
    "    env = LongTrajEnv(\n",
    "        waypoints = square_wpts,\n",
    "        base_env = get_env({'wind_vector': wind_vector})\n",
    "    )\n",
    "    done = False\n",
    "    env.reset()\n",
    "    log = DataLog(env.base_env.vehicle, env.base_env.ctrl,\n",
    "                      other_vars=('reward',))\n",
    "    while not done:\n",
    "        state, reward, done, info = env.step([0,0,0])\n",
    "        log.log(reward=reward)\n",
    "\n",
    "    log.done_logging()\n",
    "    \n",
    "    return log, info"
   ]
  },
  {
   "cell_type": "code",
   "execution_count": 46,
   "id": "5782f3fd-af90-4783-ba01-76fb62213db2",
   "metadata": {},
   "outputs": [],
   "source": [
    "wind_results = pd.DataFrame(columns=['X Wind', 'Y Wind', 'Mean TTE', 'Total TTE', 'Completed Mission', 'Out of Bounds', 'Out of Time', 'Tipped', 'Reward'])"
   ]
  },
  {
   "cell_type": "code",
   "execution_count": 47,
   "id": "a25bec36-a439-4260-b517-9c11e9ac98cc",
   "metadata": {},
   "outputs": [],
   "source": [
    "def run_wind_sweep(results):\n",
    "    step = 2.5\n",
    "    x_range = np.arange(-15,15+step,step)\n",
    "    y_range = np.arange(-15,15+step,step)\n",
    "\n",
    "    for x_speed in tqdm(x_range):\n",
    "        for y_speed in tqdm(y_range, leave=False):\n",
    "            log, info = run_trajectory(np.array([x_speed,y_speed,0], np.float32))\n",
    "            new_result = {\n",
    "                'X Wind': x_speed,\n",
    "                'Y Wind': y_speed,\n",
    "                'Mean TTE': np.mean(get_tte(np.array([0,0,0]), log.states[:,12:], log.x, log.y, log.z)),\n",
    "                'Total TTE': np.sum(get_tte(np.array([0,0,0]), log.states[:,12:], log.x, log.y, log.z)),\n",
    "                'Completed Mission': completed_mission(square_wpts, log.x, log.y, log.z, radius=2),\n",
    "                'Out of Bounds': info.get('outofbounds'),\n",
    "                'Out of Time': info.get('outoftime'),\n",
    "                'Tipped': info.get('tipped'),\n",
    "                'Reward': np.sum(log.reward)\n",
    "            }\n",
    "            results = pd.concat([results, pd.DataFrame([new_result])], ignore_index=True)\n",
    "\n",
    "    return results"
   ]
  },
  {
   "cell_type": "code",
   "execution_count": null,
   "id": "ab0bd35d-0c29-4ca0-83e4-1750cc418a4e",
   "metadata": {},
   "outputs": [
    {
     "data": {
      "application/vnd.jupyter.widget-view+json": {
       "model_id": "9e9a332579d04e28ab882330ede692b3",
       "version_major": 2,
       "version_minor": 0
      },
      "text/plain": [
       "  0%|          | 0/13 [00:00<?, ?it/s]"
      ]
     },
     "metadata": {},
     "output_type": "display_data"
    },
    {
     "data": {
      "application/vnd.jupyter.widget-view+json": {
       "model_id": "",
       "version_major": 2,
       "version_minor": 0
      },
      "text/plain": [
       "  0%|          | 0/13 [00:00<?, ?it/s]"
      ]
     },
     "metadata": {},
     "output_type": "display_data"
    },
    {
     "data": {
      "application/vnd.jupyter.widget-view+json": {
       "model_id": "304733df39d74e1f87d970f1dbf6de0c",
       "version_major": 2,
       "version_minor": 0
      },
      "text/plain": [
       "  0%|          | 0/13 [00:00<?, ?it/s]"
      ]
     },
     "metadata": {},
     "output_type": "display_data"
    }
   ],
   "source": [
    "wind_results = run_wind_sweep(wind_results)"
   ]
  },
  {
   "cell_type": "code",
   "execution_count": null,
   "id": "db0bbf74-3443-4ee3-86c1-0a880ef39c1c",
   "metadata": {},
   "outputs": [],
   "source": [
    "wind_results"
   ]
  },
  {
   "cell_type": "code",
   "execution_count": null,
   "id": "b968877e-abae-4830-8e14-ee7b56049138",
   "metadata": {},
   "outputs": [],
   "source": [
    "wind_results.to_csv('wind_results.csv')"
   ]
  },
  {
   "cell_type": "code",
   "execution_count": null,
   "id": "8facc099-6be6-4050-83c3-5369a80c318b",
   "metadata": {},
   "outputs": [],
   "source": [
    "wind_results = pd.read_csv('wind_results.csv')"
   ]
  },
  {
   "cell_type": "code",
   "execution_count": null,
   "id": "ab793a9c-3548-4945-98e4-87823b5f9585",
   "metadata": {},
   "outputs": [],
   "source": [
    "pearsonr(np.abs(wind_results['X Wind']), wind_results['Completed Mission'])"
   ]
  },
  {
   "cell_type": "code",
   "execution_count": null,
   "id": "3c024931-4dbb-4793-b692-43cca6ceb848",
   "metadata": {},
   "outputs": [],
   "source": [
    "pearsonr(np.abs(wind_results['X Wind']), wind_results['Mean TTE'])"
   ]
  },
  {
   "cell_type": "code",
   "execution_count": null,
   "id": "deb0f2bd-555d-4745-8d2e-338efa4cb121",
   "metadata": {},
   "outputs": [],
   "source": [
    "norms = np.linalg.norm([wind_results['X Wind'], wind_results['Y Wind']], axis=0)"
   ]
  },
  {
   "cell_type": "code",
   "execution_count": null,
   "id": "8c15f982-624f-4ade-9f04-53174ea7ddc2",
   "metadata": {},
   "outputs": [],
   "source": [
    "pearsonr(norms, wind_results['Completed Mission'])"
   ]
  },
  {
   "cell_type": "code",
   "execution_count": null,
   "id": "b6c60689-3669-440e-88f6-c6a926b1c9d2",
   "metadata": {},
   "outputs": [],
   "source": [
    "plt.title(\"Wind Magnitude on Completion\")\n",
    "sns.boxplot(y=norms, x=wind_results['Completed Mission'], showfliers=True)\n",
    "plt.ylabel(\"Norm of Wind Vector (m/s)\")"
   ]
  }
 ],
 "metadata": {
  "kernelspec": {
   "display_name": "Python 3 (ipykernel)",
   "language": "python",
   "name": "python3"
  },
  "language_info": {
   "codemirror_mode": {
    "name": "ipython",
    "version": 3
   },
   "file_extension": ".py",
   "mimetype": "text/x-python",
   "name": "python",
   "nbconvert_exporter": "python",
   "pygments_lexer": "ipython3",
   "version": "3.9.16"
  }
 },
 "nbformat": 4,
 "nbformat_minor": 5
}
