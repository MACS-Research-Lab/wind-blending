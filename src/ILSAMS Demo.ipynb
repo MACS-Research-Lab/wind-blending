{
 "cells": [
  {
   "cell_type": "markdown",
   "id": "d001f534",
   "metadata": {
    "heading_collapsed": true
   },
   "source": [
    "#### Notebook setup"
   ]
  },
  {
   "cell_type": "code",
   "execution_count": null,
   "id": "5a776232",
   "metadata": {
    "hidden": true
   },
   "outputs": [],
   "source": [
    "%reload_ext autoreload\n",
    "%autoreload 2\n",
    "%matplotlib inline\n",
    "import notebook_setup\n",
    "\n",
    "import matplotlib.pyplot as plt\n",
    "import gym\n",
    "import numpy as np\n",
    "from numpy.linalg import norm\n",
    "from tqdm.auto import tqdm, trange\n",
    "\n",
    "from systems.trajplanning import TrajEnv\n",
    "from systems.multirotor import MultirotorEnv\n",
    "from systems.plotting import plot_env_response\n",
    "from systems.multirotor import Multirotor, VP, SP, get_controller\n",
    "from multirotor.helpers import DataLog\n",
    "from multirotor.visualize import plot_datalog\n",
    "from multirotor.coords import direction_cosine_matrix, inertial_to_body\n",
    "from multirotor.env import SpeedsMultirotorEnv as LocalOctorotor\n",
    "from multirotor.trajectories import Trajectory, GuidedTrajectory\n",
    "from rl import learn_rl, transform_rl_policy\n",
    "from xform import policy_transform, ab_xform_from_pseudo_matrix, pseudo_matrix_from_data"
   ]
  },
  {
   "cell_type": "markdown",
   "id": "c31aa293",
   "metadata": {
    "heading_collapsed": true
   },
   "source": [
    "## Trajectory Adaptation"
   ]
  },
  {
   "cell_type": "code",
   "execution_count": null,
   "id": "415b99a7",
   "metadata": {
    "hidden": true
   },
   "outputs": [],
   "source": [
    "def plot_disturbance(fn, ax, xlims, ylims, n=10):\n",
    "    distx = np.zeros((n, n))\n",
    "    disty = np.zeros_like(distx)\n",
    "    xs = np.linspace(*xlims, num=n)\n",
    "    ys = np.linspace(*ylims, num=n)\n",
    "    for xi, x in enumerate(xs):\n",
    "        for yi, y in enumerate(ys):\n",
    "            vec = fn(0, (x,y))\n",
    "            distx[yi,xi] = vec[0]\n",
    "            disty[yi,xi] = vec[1]\n",
    "    xx, yy = np.meshgrid(xs, ys)\n",
    "    distmag = np.sqrt(distx**2 + disty**2)\n",
    "    largest = np.max(distmag)\n",
    "    distx = distx * distmag / largest\n",
    "    disty = disty * distmag / largest\n",
    "    if ax is None:\n",
    "        plt.quiver(xx, yy, distx, disty, angles='xy')\n",
    "    else:\n",
    "        ax.quiver(xx, yy, distx, disty, angles='xy')"
   ]
  },
  {
   "cell_type": "code",
   "execution_count": null,
   "id": "a784b81d",
   "metadata": {
    "hidden": true
   },
   "outputs": [],
   "source": [
    "def plot_planning(env, agent, pos, title=''):\n",
    "    x = env.reset([-pos[0], -pos[1],0,0])\n",
    "    shortest_path =  np.asarray([[0,0], env._start_pos]).T\n",
    "    positions = []\n",
    "    velocities = []\n",
    "    rewards = []\n",
    "    actions = []\n",
    "    done = False\n",
    "    while not done and env.t < 20:\n",
    "        action = agent.predict(x, deterministic=True)[0]\n",
    "        x, r, done, *_ = env.step(action)\n",
    "        actions.append(action)\n",
    "        positions.append(-x[:2])\n",
    "        velocities.append(x[2:4])\n",
    "        rewards.append(r)\n",
    "    actions = np.asarray(actions).T\n",
    "    positions = np.asarray(positions).T\n",
    "    velocities = np.asarray(velocities).T\n",
    "    rewards = np.asarray(rewards)\n",
    "\n",
    "    plt.figure(figsize=(8,4))\n",
    "    plt.subplot(1,2,1)\n",
    "    plt.plot(positions[0], positions[1])\n",
    "    plt.plot(shortest_path[0], shortest_path[1], ls='--', c='k')\n",
    "    plot_disturbance(env.disturbance, None, (pos[0],0), (pos[1],0))\n",
    "    plt.axis('equal')\n",
    "    plt.xlabel('x /m', c='r')\n",
    "    plt.ylabel('y /m', c='g')\n",
    "    plt.title(title)\n",
    "    plt.subplot(1,2,2)\n",
    "    t = np.arange(velocities.shape[1]) * env.dt\n",
    "    lx, = plt.plot(t, velocities[0], label='vel-x', c='r')\n",
    "    ly, =plt.plot(t, velocities[1], label='vel-y', c='g')\n",
    "    plt.ylabel('Velocity / m/s')\n",
    "    plt.xlabel('Time /s')\n",
    "    plt.title('Reward: %.2f' % sum(rewards))\n",
    "    plt.twinx()\n",
    "    plt.plot(t, actions[0], label='$\\Delta$x', ls=':', c='r')\n",
    "    plt.plot(t, actions[1], label='$\\Delta$y', ls=':', c='g')\n",
    "    plt.plot(t, positions[0], label='x', ls='-.', c='r')\n",
    "    plt.plot(t, positions[1], label='y', ls='-.', c='g')\n",
    "    plt.ylabel('Waypoint / m')\n",
    "    plt.legend(handles=[lx, ly] +plt.gca().lines)\n",
    "    plt.xlabel('Time / s')\n",
    "    plt.tight_layout()"
   ]
  },
  {
   "cell_type": "code",
   "execution_count": null,
   "id": "a1932d93",
   "metadata": {
    "hidden": true
   },
   "outputs": [],
   "source": [
    "# Nominal case\n",
    "class DummyAgent:\n",
    "    \n",
    "    def predict(self, u, *args, **kwargs):\n",
    "        return np.zeros(2, np.float32), None\n",
    "\n",
    "def disturbance(t, x):\n",
    "    return np.asarray([1,0], np.float32)"
   ]
  },
  {
   "cell_type": "code",
   "execution_count": null,
   "id": "e5d2447b",
   "metadata": {
    "hidden": true,
    "scrolled": false
   },
   "outputs": [],
   "source": [
    "# Learn nominal behavior\n",
    "agent = learn_rl(TrajEnv(disturbance), steps=100_000, n_steps=1200, gamma=0.99, batch_size=300,\n",
    "                 tensorboard_log='TrajEnv/ConstantXWind')"
   ]
  },
  {
   "cell_type": "code",
   "execution_count": null,
   "id": "d367f8ab",
   "metadata": {
    "hidden": true
   },
   "outputs": [],
   "source": [
    "# Adapt to new behavior\n",
    "def new_disturbance(t, pos):\n",
    "    return np.asarray([-1, 0.], np.float32)\n",
    "\n",
    "nA_s, nB_s, nF_A, nF_B, nxxform, nuxform = 1,1,1,1,1,1\n",
    "dA_s, dB_s, dF_A, dF_B, dxxform, duxform = 1,1,1,1,1,1\n",
    "\n",
    "for steps in trange(100, 4000, 200, leave=False):\n",
    "    P_s = pseudo_matrix_from_data(TrajEnv(disturbance), steps, agent, 'steps')\n",
    "    P_t = pseudo_matrix_from_data(TrajEnv(new_disturbance), steps, agent, 'steps')\n",
    "    A_s, B_s, A_t, B_t, F_A, F_B = ab_xform_from_pseudo_matrix(P_s, P_t, TrajEnv().dt)\n",
    "    state_xform, action_xform = policy_transform((A_s, B_s), xformA=F_A, xformB=F_B)\n",
    "    dA_s, nA_s = norm(A_s) / nA_s, norm(A_s)\n",
    "    dB_s, nB_s = norm(B_s) / nB_s, norm(B_s)\n",
    "    dF_A, nF_A = norm(F_A) / nF_A, norm(F_A)\n",
    "    dF_B, nF_B = norm(F_B) / nF_B, norm(F_B)\n",
    "    dxxform, nxxform = norm(state_xform) / nxxform, norm(state_xform)\n",
    "    duxform, nuxform = norm(action_xform) / nuxform, norm(action_xform)\n",
    "    print('A_s %5.2f, B_s %5.2f, F_A %5.2f, F_B %5.2f, Xxform %5.2f, Uxform %5.2f' \\\n",
    "          % (dA_s, dB_s, dF_A, dF_B, dxxform, duxform))\n",
    "    if all([abs(1-d) <= 0.1 for d in (dA_s, dB_s, dF_A, dF_B, dxxform, duxform)]):\n",
    "        break\n",
    "\n",
    "agent_new = transform_rl_policy(agent, state_xform, action_xform)"
   ]
  },
  {
   "cell_type": "code",
   "execution_count": null,
   "id": "b4a7aa58",
   "metadata": {
    "hidden": true
   },
   "outputs": [],
   "source": [
    "print('state_xform', np.linalg.norm(state_xform))\n",
    "print('action_xform', np.linalg.norm(action_xform))\n",
    "print('F_A', np.linalg.norm(F_A))\n",
    "print('F_B', np.linalg.norm(F_B))\n",
    "print('A_t', np.linalg.norm(A_t))\n",
    "print('B_t', np.linalg.norm(B_t))"
   ]
  },
  {
   "cell_type": "code",
   "execution_count": null,
   "id": "9fb0b41b",
   "metadata": {
    "hidden": true
   },
   "outputs": [],
   "source": [
    "pos = (5,5)"
   ]
  },
  {
   "cell_type": "code",
   "execution_count": null,
   "id": "d5438207",
   "metadata": {
    "hidden": true
   },
   "outputs": [],
   "source": [
    "# Agent tuned on original disturbance\n",
    "%matplotlib inline\n",
    "plot_planning(TrajEnv(disturbance), agent, pos, 'Optimized on eastwards wind')"
   ]
  },
  {
   "cell_type": "code",
   "execution_count": null,
   "id": "c45a2466",
   "metadata": {
    "hidden": true,
    "scrolled": false
   },
   "outputs": [],
   "source": [
    "# Agent applied to new disturbance\n",
    "%matplotlib inline\n",
    "plot_planning(TrajEnv(new_disturbance), agent, pos, 'Applied to west wind')"
   ]
  },
  {
   "cell_type": "code",
   "execution_count": null,
   "id": "016ae1a7",
   "metadata": {
    "hidden": true,
    "scrolled": false
   },
   "outputs": [],
   "source": [
    "# Adapted agent on new disturbance\n",
    "%matplotlib inline\n",
    "plot_planning(TrajEnv(new_disturbance), agent_new, pos, 'Adapted on west wind')"
   ]
  },
  {
   "cell_type": "markdown",
   "id": "9eb34672",
   "metadata": {
    "heading_collapsed": true
   },
   "source": [
    "## Simulation"
   ]
  },
  {
   "cell_type": "code",
   "execution_count": null,
   "id": "f5f52df4",
   "metadata": {
    "hidden": true
   },
   "outputs": [],
   "source": [
    "def wind(i, m):\n",
    "    w_inertial = np.asarray(\n",
    "        [20 * np.sin(i * 2 * np.pi / 1000),\n",
    "         10 * np.sin(i * 2 * np.pi / 500),\n",
    "         0])\n",
    "    dcm = direction_cosine_matrix(*m.orientation)\n",
    "    return inertial_to_body(w_inertial, dcm), 0\n",
    "def motor_failure(i, m, motors=(2,)):\n",
    "    if i > 1000:\n",
    "        for motor_num in motors:\n",
    "            # m.propellers[motor_num].motor.speed = 400\n",
    "            # m.propellers[motor_num].motor._last_angular_acc = 0.\n",
    "            # m.propellers[motor_num].speed = 400\n",
    "            m.propellers[motor_num].motor.params.k_torque = 0.005\n",
    "    return 0, 0\n",
    "def battery_degrade(i, m):\n",
    "    m.battery.params.max_voltage /= 2\n",
    "    m.battery.voltage = m.battery.params.max_voltage / 2\n",
    "    return 0, 0"
   ]
  },
  {
   "cell_type": "code",
   "execution_count": null,
   "id": "9f314d81",
   "metadata": {
    "hidden": true
   },
   "outputs": [],
   "source": [
    "def run_sim(env, traj, steps=60_000, disturbance=None):\n",
    "    ctrl = get_controller(env.vehicle, max_velocity=5.)\n",
    "\n",
    "    log = DataLog(env.vehicle, ctrl,\n",
    "                  other_vars=('speeds','target', 'alloc_errs', 'att_err',\n",
    "                              'rate_target', 'att_target',\n",
    "                              'leash', 'currents', 'voltages'))\n",
    "    disturb_force, disturb_torque = 0., 0\n",
    "    for i, (pos, feed_forward_vel) in tqdm(\n",
    "        enumerate(traj), leave=False, total=steps\n",
    "    ):\n",
    "        if i==steps: break\n",
    "        # Generate reference for controller\n",
    "        ref = np.asarray([*pos, 0.])\n",
    "        # Get prescribed dynamics for system as thrust and torques\n",
    "        dynamics = ctrl.step(ref, feed_forward_velocity=feed_forward_vel)\n",
    "        thrust, torques = dynamics[0], dynamics[1:]\n",
    "        # Allocate control: Convert dynamics into motor rad/s\n",
    "        action = env.vehicle.allocate_control(thrust, torques)\n",
    "        # get any disturbances\n",
    "        if disturbance is not None:\n",
    "            disturb_force, disturb_torque = disturbance(i, env.vehicle)\n",
    "        # Send speeds to environment\n",
    "        state, *_ = env.step(\n",
    "            action, disturb_forces=disturb_force, disturb_torques=disturb_torque\n",
    "        )\n",
    "        alloc_errs = np.asarray([thrust, *torques]) - env.vehicle.alloc @ action**2\n",
    "\n",
    "        log.log(speeds=action, target=pos, alloc_errs=alloc_errs,\n",
    "                leash=ctrl.ctrl_p.leash,\n",
    "                att_err=ctrl.ctrl_a.err,\n",
    "                att_target = ctrl.ctrl_v.action[::-1],\n",
    "                rate_target=ctrl.ctrl_a.action,\n",
    "                currents=[p.motor.current for p in env.vehicle.propellers],\n",
    "                voltages=[p.motor.voltage for p in env.vehicle.propellers])\n",
    "\n",
    "        if np.any(np.abs(env.vehicle.orientation[:2]) > np.pi/6): break\n",
    "\n",
    "    log.done_logging()\n",
    "    return log"
   ]
  },
  {
   "cell_type": "code",
   "execution_count": null,
   "id": "a98de44f",
   "metadata": {
    "hidden": true,
    "scrolled": false
   },
   "outputs": [],
   "source": [
    "%matplotlib inline\n",
    "SP.dt=1e-2\n",
    "waypoints = 2 * np.asarray(\n",
    "    [[0,50,2], [25,60,2], [50,50,2], [60,25,2], [50,0,2], [25,-10,2], [0,0,2]]\n",
    ")\n",
    "env = LocalOctorotor(vehicle=Multirotor(VP, SP))\n",
    "# traj = GuidedTrajectory(env.vehicle, waypoints, proximity=2)\n",
    "traj = Trajectory(env.vehicle, waypoints, proximity=2, resolution=None)\n",
    "\n",
    "log = run_sim(env, traj, steps=10000, disturbance=wind)\n",
    "plot_datalog(log)"
   ]
  },
  {
   "cell_type": "code",
   "execution_count": null,
   "id": "9ebfa956",
   "metadata": {
    "hidden": true
   },
   "outputs": [],
   "source": [
    "# 3D Trajectory\n",
    "%matplotlib notebook\n",
    "ax = plt.figure().add_subplot(projection='3d')\n",
    "ax.plot(log.x, log.y, log.z)\n",
    "ax.plot(log.target[:,0], log.target[:,1], log.target[:,2], c='k', ls=':')\n",
    "ax.set_xlabel('x /m', c='r')\n",
    "ax.set_ylabel('y /m', c='g')\n",
    "ax.set_zlabel('z /m', c='b')\n",
    "# ax.set_box_aspect(list(map(np.ptp, (log.x, log.y, log.z))))"
   ]
  },
  {
   "cell_type": "markdown",
   "id": "518dff09",
   "metadata": {
    "heading_collapsed": true,
    "hidden": true
   },
   "source": [
    "### Other plots"
   ]
  },
  {
   "cell_type": "code",
   "execution_count": null,
   "id": "45253a05",
   "metadata": {
    "hidden": true
   },
   "outputs": [],
   "source": [
    "# Attitude control\n",
    "%matplotlib inline\n",
    "plt.plot(log.att_err[:,1] * 180 / np.pi, label='Roll error')\n",
    "plt.plot(log.att_target[:,1] * 180 / np.pi, label='Roll target')\n",
    "plt.plot(log.pitch * 180 / np.pi, label='Roll')\n",
    "plt.ylabel('Attitudes', c='b')\n",
    "plt.legend()\n",
    "# plt.twinx()\n",
    "# plt.plot(log.att_action[:, 0], c='r', label='Roll rate')\n",
    "# plt.ylabel('Rate', c='r')\n",
    "# plt.xlabel('Time /ms')"
   ]
  },
  {
   "cell_type": "code",
   "execution_count": null,
   "id": "aad591dc",
   "metadata": {
    "hidden": true
   },
   "outputs": [],
   "source": [
    "# Leashing\n",
    "%matplotlib inline\n",
    "plt.plot(np.clip(log.leash, 0, 20))\n",
    "plt.ylabel('Leash length /m')\n",
    "plt.xlabel('Time /ms')\n",
    "plt.title('Leashing position error')"
   ]
  },
  {
   "cell_type": "code",
   "execution_count": null,
   "id": "6ed4fd09",
   "metadata": {
    "hidden": true
   },
   "outputs": [],
   "source": [
    "%matplotlib inline\n",
    "from multirotor.controller.pid import sqrt_control\n",
    "\n",
    "err = np.linspace(0, 10, num=100)\n",
    "acc = 1\n",
    "k_p = 1.\n",
    "corr = []\n",
    "for e in err:\n",
    "    corr.append(sqrt_control(e, k_p, acc, 0.001))\n",
    "plt.plot(err, corr, c='orange')\n",
    "plt.ylabel('$K_P$')\n",
    "plt.xlabel('Position Error /m')\n",
    "plt.title('Square root proportional control')"
   ]
  },
  {
   "cell_type": "code",
   "execution_count": null,
   "id": "a6ac6e1b",
   "metadata": {
    "hidden": true
   },
   "outputs": [],
   "source": [
    "wp = np.asarray([\n",
    "    [0.0, 0.0, 30.0],\n",
    "    [164.0146725649829, -0.019177722744643688, 30.0],\n",
    "    [165.6418055187678, 111.5351051245816, 30.0],\n",
    "    [127.3337449710234, 165.73576059611514, 30.0],\n",
    "    [-187.28170707810204, 170.33217775914818, 45.0],\n",
    "    [-192.03130502498243, 106.30660058604553, 45.0],\n",
    "    [115.89920266153058, 100.8644210617058, 30.0],\n",
    "    [114.81859536317643, 26.80923518165946, 30.0],\n",
    "    [-21.459931490011513, 32.60508110653609, 30.0]\n",
    "])"
   ]
  },
  {
   "cell_type": "code",
   "execution_count": null,
   "id": "d3bac96b",
   "metadata": {
    "hidden": true
   },
   "outputs": [],
   "source": []
  }
 ],
 "metadata": {
  "kernelspec": {
   "display_name": "Python 3 (ipykernel)",
   "language": "python",
   "name": "python3"
  },
  "language_info": {
   "codemirror_mode": {
    "name": "ipython",
    "version": 3
   },
   "file_extension": ".py",
   "mimetype": "text/x-python",
   "name": "python",
   "nbconvert_exporter": "python",
   "pygments_lexer": "ipython3",
   "version": "3.9.13"
  }
 },
 "nbformat": 4,
 "nbformat_minor": 5
}
