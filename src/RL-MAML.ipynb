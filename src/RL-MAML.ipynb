{
 "cells": [
  {
   "cell_type": "code",
   "execution_count": 33,
   "id": "e15c5f32",
   "metadata": {},
   "outputs": [],
   "source": [
    "%reload_ext autoreload\n",
    "%autoreload 2\n",
    "from copy import deepcopy\n",
    "import stable_baselines3 as sb3\n",
    "from stable_baselines3.common.policies import ActorCriticPolicy\n",
    "import torch\n",
    "import torch.nn as nn\n",
    "import numpy as np\n",
    "import gym\n",
    "from tqdm.autonotebook import tqdm, trange\n",
    "\n",
    "from systems.cartpole import create_cartpole, CartpoleEnv"
   ]
  },
  {
   "cell_type": "markdown",
   "id": "ef97db6e",
   "metadata": {},
   "source": [
    "# Reptile"
   ]
  },
  {
   "cell_type": "code",
   "execution_count": 44,
   "id": "b9ba10d5",
   "metadata": {},
   "outputs": [],
   "source": [
    "class Reptile:\n",
    "    def __init__(self, envs, pretrain_steps, beta=0.01, algorithm=sb3.PPO, inner_kwargs={}, **kwargs):\n",
    "        self.envs = envs\n",
    "        self.env = envs[0]\n",
    "        self.meta_envs = envs[1:]\n",
    "        self.beta = beta\n",
    "        self.pretrain_steps = pretrain_steps\n",
    "        self.kwargs = kwargs\n",
    "        self.algorithm = algorithm\n",
    "        self.inner_kwargs = deepcopy(kwargs)\n",
    "        self.inner_kwargs.update(**inner_kwargs)\n",
    "        self.inner_kwargs['tensorboard_log'] = None\n",
    "        self.outer = self.algorithm(ActorCriticPolicy, self.env, **self.kwargs)\n",
    "\n",
    "    def learn(self, total_timesteps, reset_timesteps=True):\n",
    "        if self.reset_timesteps:\n",
    "            self.outer.learn(total_timesteps=self.pretrain_steps)\n",
    "        self.inner = self.algorithm(ActorCriticPolicy, self.env, **self.inner_kwargs)\n",
    "        for batch in trange(0, total_timesteps, self.kwargs.get('n_steps'), leave=False):\n",
    "            self.inner.policy.load_state_dict(self.outer.policy.state_dict())  \n",
    "            for env in tqdm(self.meta_envs, leave=False):\n",
    "                self.inner.set_env(env)\n",
    "                self.inner.learn(total_timesteps=self.inner_kwargs.get('n_steps'),\n",
    "                                 progress_bar=False)\n",
    "                inner_params = self.inner.policy.parameters()\n",
    "                outer_params = self.outer.policy.parameters()\n",
    "                with torch.no_grad():\n",
    "                    for  outer, inner in zip(outer_params, inner_params):\n",
    "                        outer.add_(self.beta * (inner - outer))\n",
    "            self.outer.learn(self.kwargs.get('n_steps'), reset_num_timesteps=False)"
   ]
  },
  {
   "cell_type": "code",
   "execution_count": 31,
   "id": "3b4a3b70",
   "metadata": {},
   "outputs": [],
   "source": [
    "sys_kwargs = dict(mc=0.5, mp=0.1, l=1, g=10, df=0.01)\n",
    "learn_kwargs = dict(seed=0, learning_rate=2e-3,\n",
    "                    n_steps=2048, batch_size=64, n_epochs=10,\n",
    "                    gamma=0.99)\n",
    "total_timesteps = 50_000\n",
    "q = np.asarray([[1,0,0,0], [0,0.1,0,0],[0,0,1e-5,0],[0,0,0,1e-1]])\n",
    "r = np.asarray([[0.00001]])\n",
    "xformA = np.diagflat(np.random.RandomState(seed=0).randn(4))\n",
    "xformB = np.diagflat(np.random.RandomState(seed=1).randn(4))\n",
    "x0 = np.asarray([-np.pi/45, 0, 0, 0])\n",
    "make_env = lambda: CartpoleEnv(**sys_kwargs, q=q, seed=0)\n",
    "def sample_env(seed=None, n=1):\n",
    "    random = np.random.RandomState(seed)\n",
    "    envs = []\n",
    "    for _ in range(n):\n",
    "        kwargs = deepcopy(sys_kwargs)\n",
    "        kwargs['mc'] *= (1 + random.randn() * 0.2)\n",
    "        kwargs['mp'] *= (1 + random.randn() * 0.2)\n",
    "        kwargs['l'] *= (1 + random.randn() * 0.2)\n",
    "        env = CartpoleEnv(**kwargs, q=q, seed=0)\n",
    "        envs.append(env)\n",
    "    return envs\n",
    "env = make_env()\n",
    "sys = create_cartpole(**sys_kwargs)"
   ]
  },
  {
   "cell_type": "code",
   "execution_count": 45,
   "id": "f4a7fdff",
   "metadata": {},
   "outputs": [
    {
     "data": {
      "application/vnd.jupyter.widget-view+json": {
       "model_id": "",
       "version_major": 2,
       "version_minor": 0
      },
      "text/plain": [
       "  0%|          | 0/25 [00:00<?, ?it/s]"
      ]
     },
     "metadata": {},
     "output_type": "display_data"
    },
    {
     "data": {
      "application/vnd.jupyter.widget-view+json": {
       "model_id": "",
       "version_major": 2,
       "version_minor": 0
      },
      "text/plain": [
       "  0%|          | 0/3 [00:00<?, ?it/s]"
      ]
     },
     "metadata": {},
     "output_type": "display_data"
    },
    {
     "data": {
      "application/vnd.jupyter.widget-view+json": {
       "model_id": "",
       "version_major": 2,
       "version_minor": 0
      },
      "text/plain": [
       "  0%|          | 0/3 [00:00<?, ?it/s]"
      ]
     },
     "metadata": {},
     "output_type": "display_data"
    },
    {
     "data": {
      "application/vnd.jupyter.widget-view+json": {
       "model_id": "",
       "version_major": 2,
       "version_minor": 0
      },
      "text/plain": [
       "  0%|          | 0/3 [00:00<?, ?it/s]"
      ]
     },
     "metadata": {},
     "output_type": "display_data"
    },
    {
     "data": {
      "application/vnd.jupyter.widget-view+json": {
       "model_id": "",
       "version_major": 2,
       "version_minor": 0
      },
      "text/plain": [
       "  0%|          | 0/3 [00:00<?, ?it/s]"
      ]
     },
     "metadata": {},
     "output_type": "display_data"
    },
    {
     "data": {
      "application/vnd.jupyter.widget-view+json": {
       "model_id": "",
       "version_major": 2,
       "version_minor": 0
      },
      "text/plain": [
       "  0%|          | 0/3 [00:00<?, ?it/s]"
      ]
     },
     "metadata": {},
     "output_type": "display_data"
    },
    {
     "data": {
      "application/vnd.jupyter.widget-view+json": {
       "model_id": "",
       "version_major": 2,
       "version_minor": 0
      },
      "text/plain": [
       "  0%|          | 0/3 [00:00<?, ?it/s]"
      ]
     },
     "metadata": {},
     "output_type": "display_data"
    },
    {
     "data": {
      "application/vnd.jupyter.widget-view+json": {
       "model_id": "",
       "version_major": 2,
       "version_minor": 0
      },
      "text/plain": [
       "  0%|          | 0/3 [00:00<?, ?it/s]"
      ]
     },
     "metadata": {},
     "output_type": "display_data"
    },
    {
     "data": {
      "application/vnd.jupyter.widget-view+json": {
       "model_id": "",
       "version_major": 2,
       "version_minor": 0
      },
      "text/plain": [
       "  0%|          | 0/3 [00:00<?, ?it/s]"
      ]
     },
     "metadata": {},
     "output_type": "display_data"
    },
    {
     "data": {
      "application/vnd.jupyter.widget-view+json": {
       "model_id": "",
       "version_major": 2,
       "version_minor": 0
      },
      "text/plain": [
       "  0%|          | 0/3 [00:00<?, ?it/s]"
      ]
     },
     "metadata": {},
     "output_type": "display_data"
    },
    {
     "data": {
      "application/vnd.jupyter.widget-view+json": {
       "model_id": "",
       "version_major": 2,
       "version_minor": 0
      },
      "text/plain": [
       "  0%|          | 0/3 [00:00<?, ?it/s]"
      ]
     },
     "metadata": {},
     "output_type": "display_data"
    },
    {
     "data": {
      "application/vnd.jupyter.widget-view+json": {
       "model_id": "",
       "version_major": 2,
       "version_minor": 0
      },
      "text/plain": [
       "  0%|          | 0/3 [00:00<?, ?it/s]"
      ]
     },
     "metadata": {},
     "output_type": "display_data"
    },
    {
     "data": {
      "application/vnd.jupyter.widget-view+json": {
       "model_id": "",
       "version_major": 2,
       "version_minor": 0
      },
      "text/plain": [
       "  0%|          | 0/3 [00:00<?, ?it/s]"
      ]
     },
     "metadata": {},
     "output_type": "display_data"
    },
    {
     "data": {
      "application/vnd.jupyter.widget-view+json": {
       "model_id": "",
       "version_major": 2,
       "version_minor": 0
      },
      "text/plain": [
       "  0%|          | 0/3 [00:00<?, ?it/s]"
      ]
     },
     "metadata": {},
     "output_type": "display_data"
    },
    {
     "data": {
      "application/vnd.jupyter.widget-view+json": {
       "model_id": "",
       "version_major": 2,
       "version_minor": 0
      },
      "text/plain": [
       "  0%|          | 0/3 [00:00<?, ?it/s]"
      ]
     },
     "metadata": {},
     "output_type": "display_data"
    },
    {
     "data": {
      "application/vnd.jupyter.widget-view+json": {
       "model_id": "",
       "version_major": 2,
       "version_minor": 0
      },
      "text/plain": [
       "  0%|          | 0/3 [00:00<?, ?it/s]"
      ]
     },
     "metadata": {},
     "output_type": "display_data"
    },
    {
     "data": {
      "application/vnd.jupyter.widget-view+json": {
       "model_id": "",
       "version_major": 2,
       "version_minor": 0
      },
      "text/plain": [
       "  0%|          | 0/3 [00:00<?, ?it/s]"
      ]
     },
     "metadata": {},
     "output_type": "display_data"
    },
    {
     "data": {
      "application/vnd.jupyter.widget-view+json": {
       "model_id": "",
       "version_major": 2,
       "version_minor": 0
      },
      "text/plain": [
       "  0%|          | 0/3 [00:00<?, ?it/s]"
      ]
     },
     "metadata": {},
     "output_type": "display_data"
    },
    {
     "data": {
      "application/vnd.jupyter.widget-view+json": {
       "model_id": "",
       "version_major": 2,
       "version_minor": 0
      },
      "text/plain": [
       "  0%|          | 0/3 [00:00<?, ?it/s]"
      ]
     },
     "metadata": {},
     "output_type": "display_data"
    },
    {
     "data": {
      "application/vnd.jupyter.widget-view+json": {
       "model_id": "",
       "version_major": 2,
       "version_minor": 0
      },
      "text/plain": [
       "  0%|          | 0/3 [00:00<?, ?it/s]"
      ]
     },
     "metadata": {},
     "output_type": "display_data"
    },
    {
     "data": {
      "application/vnd.jupyter.widget-view+json": {
       "model_id": "",
       "version_major": 2,
       "version_minor": 0
      },
      "text/plain": [
       "  0%|          | 0/3 [00:00<?, ?it/s]"
      ]
     },
     "metadata": {},
     "output_type": "display_data"
    },
    {
     "data": {
      "application/vnd.jupyter.widget-view+json": {
       "model_id": "",
       "version_major": 2,
       "version_minor": 0
      },
      "text/plain": [
       "  0%|          | 0/3 [00:00<?, ?it/s]"
      ]
     },
     "metadata": {},
     "output_type": "display_data"
    },
    {
     "data": {
      "application/vnd.jupyter.widget-view+json": {
       "model_id": "",
       "version_major": 2,
       "version_minor": 0
      },
      "text/plain": [
       "  0%|          | 0/3 [00:00<?, ?it/s]"
      ]
     },
     "metadata": {},
     "output_type": "display_data"
    },
    {
     "data": {
      "application/vnd.jupyter.widget-view+json": {
       "model_id": "",
       "version_major": 2,
       "version_minor": 0
      },
      "text/plain": [
       "  0%|          | 0/3 [00:00<?, ?it/s]"
      ]
     },
     "metadata": {},
     "output_type": "display_data"
    },
    {
     "data": {
      "application/vnd.jupyter.widget-view+json": {
       "model_id": "",
       "version_major": 2,
       "version_minor": 0
      },
      "text/plain": [
       "  0%|          | 0/3 [00:00<?, ?it/s]"
      ]
     },
     "metadata": {},
     "output_type": "display_data"
    },
    {
     "data": {
      "application/vnd.jupyter.widget-view+json": {
       "model_id": "",
       "version_major": 2,
       "version_minor": 0
      },
      "text/plain": [
       "  0%|          | 0/3 [00:00<?, ?it/s]"
      ]
     },
     "metadata": {},
     "output_type": "display_data"
    }
   ],
   "source": [
    "agent = Reptile([make_env()] + sample_env(n=3), pretrain_steps=5_000,\n",
    "               tensorboard_log='./tensorboard/Cartpole/reptile/',\n",
    "                **learn_kwargs)\n",
    "agent.learn(50_000)"
   ]
  },
  {
   "cell_type": "code",
   "execution_count": null,
   "id": "d42a48f5",
   "metadata": {},
   "outputs": [],
   "source": []
  }
 ],
 "metadata": {
  "kernelspec": {
   "display_name": "Python 3 (ipykernel)",
   "language": "python",
   "name": "python3"
  },
  "language_info": {
   "codemirror_mode": {
    "name": "ipython",
    "version": 3
   },
   "file_extension": ".py",
   "mimetype": "text/x-python",
   "name": "python",
   "nbconvert_exporter": "python",
   "pygments_lexer": "ipython3",
   "version": "3.9.16"
  }
 },
 "nbformat": 4,
 "nbformat_minor": 5
}
