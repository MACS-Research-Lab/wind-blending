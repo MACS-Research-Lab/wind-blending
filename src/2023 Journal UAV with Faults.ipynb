{
 "cells": [
  {
   "cell_type": "code",
   "execution_count": null,
   "id": "bdec998e",
   "metadata": {},
   "outputs": [],
   "source": [
    "%reload_ext autoreload\n",
    "%autoreload 2\n",
    "%matplotlib inline\n",
    "\n",
    "import notebook_setup\n",
    "from typing import Union, Iterable, List\n",
    "from copy import deepcopy\n",
    "import matplotlib.pyplot as plt\n",
    "import numpy as np\n",
    "import pandas as pd\n",
    "import torch\n",
    "import torch.nn as nn\n",
    "from torch.autograd.functional import jacobian, hessian\n",
    "from tqdm.autonotebook import tqdm, trange\n",
    "import optuna\n",
    "\n",
    "from rl import learn_rl, transform_rl_policy, evaluate_rl, PPO, load_agent\n",
    "from xform.functions import DynamicsModel, transform_nonlinear_policy\n",
    "from xform.systems import get_env_samples\n",
    "from systems.plotting import plot_env_response, multiple_response_plots\n",
    "from systems.base import functions\n",
    "from systems.lunarlander import LunarLanderEnv, LanderEnv"
   ]
  },
  {
   "cell_type": "markdown",
   "id": "523a0e67",
   "metadata": {},
   "source": [
    "# LunarLander"
   ]
  },
  {
   "cell_type": "code",
   "execution_count": null,
   "id": "2c226c20",
   "metadata": {},
   "outputs": [],
   "source": [
    "def make_xform_env(t, seed=0):\n",
    "    env = LunarLanderEnv(seed=seed)\n",
    "    min_power = 0.75\n",
    "    max_power = 1.\n",
    "    side = 1\n",
    "    relative_power = np.ones(2, np.float32)\n",
    "    env.relative_power[side] = min_power + (1-t) * (max_power - min_power)\n",
    "    env.reset()\n",
    "    return env"
   ]
  },
  {
   "cell_type": "code",
   "execution_count": null,
   "id": "310ff5f0",
   "metadata": {},
   "outputs": [],
   "source": [
    "learn_kwargs = dict(steps=150_000, seed=0, learning_rate=5e-3,\n",
    "                    n_steps=1024, batch_size=256, n_epochs=5,\n",
    "                    gamma=0.99)\n",
    "env = make_xform_env(0)\n",
    "agent = learn_rl(env, tensorboard_log=env.name + '/tuning', **learn_kwargs)"
   ]
  },
  {
   "cell_type": "code",
   "execution_count": null,
   "id": "55707098",
   "metadata": {},
   "outputs": [],
   "source": [
    "# nominal model\n",
    "env = make_xform_env(0)\n",
    "agent.set_random_seed(0)\n",
    "n_states, n_actions = env.observation_space.shape[0], env.action_space.shape[0]\n",
    "dyn = DynamicsModel(n_states, n_actions, env.dt, states_hidden=128, n_layers=2, separable=True)\n",
    "xu, x = get_env_samples(env, 10, agent)\n",
    "\n",
    "losses = dyn.learn(xu, x, lr=0.002, steps=5000)\n",
    "plt.plot(losses)"
   ]
  },
  {
   "cell_type": "code",
   "execution_count": null,
   "id": "88328d6b",
   "metadata": {
    "scrolled": false
   },
   "outputs": [],
   "source": [
    "# faulty model\n",
    "agent.set_random_seed(0)\n",
    "env_ = make_xform_env(0.5)\n",
    "n_states, n_actions = env_.observation_space.shape[0], env_.action_space.shape[0]\n",
    "dyn_ = DynamicsModel(n_states, n_actions, env_.dt, states_hidden=128, n_layers=2, separable=True)\n",
    "xu, x = get_env_samples(env_, 10, agent)\n",
    "\n",
    "losses = dyn_.learn(xu, x, lr=0.002, steps=5000)\n",
    "plt.plot(losses)"
   ]
  },
  {
   "cell_type": "code",
   "execution_count": null,
   "id": "5406bbbf",
   "metadata": {},
   "outputs": [],
   "source": [
    "predict_ = transform_nonlinear_policy(dyn, dyn_, agent.predict)"
   ]
  },
  {
   "cell_type": "code",
   "execution_count": null,
   "id": "f9a63350",
   "metadata": {},
   "outputs": [],
   "source": [
    "predict_(env.observation_space.sample(), True)"
   ]
  },
  {
   "cell_type": "code",
   "execution_count": null,
   "id": "1a20c37d",
   "metadata": {},
   "outputs": [],
   "source": [
    "env, env_, env__ = make_xform_env(0.), make_xform_env(0.5), make_xform_env(0.5)"
   ]
  },
  {
   "cell_type": "code",
   "execution_count": null,
   "id": "d85b6508",
   "metadata": {
    "scrolled": false
   },
   "outputs": [],
   "source": [
    "multiple_response_plots([\n",
    "    lambda: plot_env_response(env, env.reset(), control_law=agent, state_idx=(0,1,4), state_names='xyw'),\n",
    "    lambda: plot_env_response(env_, env_.reset(), control_law=agent, state_idx=(0,1,4), state_names='xyw'),\n",
    "    lambda: plot_env_response(env__, env__.reset(), control_law=predict_, state_idx=(0,1,4), state_names='xyw')\n",
    "])"
   ]
  },
  {
   "cell_type": "markdown",
   "id": "a23d3ce0",
   "metadata": {
    "heading_collapsed": true
   },
   "source": [
    "# Separable"
   ]
  },
  {
   "cell_type": "code",
   "execution_count": null,
   "id": "d13d73b4",
   "metadata": {
    "hidden": true
   },
   "outputs": [],
   "source": [
    "from systems.cartpole import CartpoleEnv, create_cartpole"
   ]
  },
  {
   "cell_type": "code",
   "execution_count": null,
   "id": "fbc3a10b",
   "metadata": {
    "hidden": true
   },
   "outputs": [],
   "source": [
    "sys_kwargs = dict(mc=0.5, mp=0.1, l=1, g=10, df=0.01)\n",
    "learn_kwargs = dict(steps=100_000, seed=0, learning_rate=2e-3,\n",
    "                    n_steps=2048, batch_size=64, n_epochs=10,\n",
    "                    gamma=0.99)\n",
    "q = np.asarray([[1,0,0,0], [0,0.1,0,0],[0,0,1e-5,0],[0,0,0,1e-1]])\n",
    "r = np.asarray([[0.00001]])\n",
    "xformA = np.diagflat(np.random.RandomState(seed=0).randn(4))\n",
    "xformB = np.diagflat(np.random.RandomState(seed=1).randn(4))\n",
    "x0 = np.asarray([-np.pi/45, 0, 0, 0])\n",
    "make_env = lambda: CartpoleEnv(**sys_kwargs, q=q, seed=0)\n",
    "def make_xform_env():\n",
    "    env = CartpoleEnv(**sys_kwargs, q=q, seed=0,\n",
    "                      xformA=xformA, xformB=xformB)\n",
    "    return env\n",
    "env = make_env()\n",
    "sys = create_cartpole(**sys_kwargs)"
   ]
  },
  {
   "cell_type": "code",
   "execution_count": null,
   "id": "74255895",
   "metadata": {
    "hidden": true
   },
   "outputs": [],
   "source": [
    "sys = create_cartpole(**sys_kwargs, use_torch=True)"
   ]
  },
  {
   "cell_type": "code",
   "execution_count": null,
   "id": "b93f5bcb",
   "metadata": {
    "hidden": true
   },
   "outputs": [],
   "source": [
    "dxdt = sys.dynamics(None,\n",
    "            torch.from_numpy(np.zeros(4, np.float32)),\n",
    "            torch.from_numpy(np.ones(1, np.float32))\n",
    "            )"
   ]
  },
  {
   "cell_type": "code",
   "execution_count": null,
   "id": "49ade5ca",
   "metadata": {
    "hidden": true
   },
   "outputs": [],
   "source": [
    "u = torch.from_numpy(np.ones(1, np.float32)) * -1\n",
    "x = torch.from_numpy(np.asarray([0.1, 0.1, 0, 0], np.float32))\n",
    "u.requires_grad_(True)\n",
    "dxdt = sys.updfcn(None,\n",
    "            x,\n",
    "            u,\n",
    "            None\n",
    "            )\n",
    "from torch.autograd.functional import jacobian\n",
    "jacobian(lambda u: sys.updfcn(None, x, u, None), u)"
   ]
  },
  {
   "cell_type": "code",
   "execution_count": null,
   "id": "4d5730ff",
   "metadata": {
    "hidden": true
   },
   "outputs": [],
   "source": [
    "env = make_env()\n",
    "agent = learn_rl(env, tensorboard_log=env.name + '/tuning', **learn_kwargs)"
   ]
  },
  {
   "cell_type": "code",
   "execution_count": null,
   "id": "880f267e",
   "metadata": {
    "hidden": true
   },
   "outputs": [],
   "source": [
    "env = make_env()\n",
    "agent.set_random_seed(0)\n",
    "n_states, n_actions = env.observation_space.shape[0], env.action_space.shape[0]\n",
    "dyn = DynamicsModel(n_states, n_actions, env.dt, states_hidden=128, n_layers=2, separable=True)\n",
    "xu, x = get_env_samples(env, 10, agent)\n",
    "\n",
    "losses = dyn.learn(xu, x, lr=0.002, steps=5000)\n",
    "plt.plot(losses)"
   ]
  },
  {
   "cell_type": "code",
   "execution_count": null,
   "id": "f4723b11",
   "metadata": {
    "hidden": true
   },
   "outputs": [],
   "source": [
    "env_ = make_xform_env()\n",
    "agent.set_random_seed(0)\n",
    "n_states, n_actions = env_.observation_space.shape[0], env_.action_space.shape[0]\n",
    "dyn_ = DynamicsModel(n_states, n_actions, env_.dt, states_hidden=128, n_layers=2, separable=True)\n",
    "xu, x = get_env_samples(env_, 10, agent)\n",
    "\n",
    "losses = dyn_.learn(xu, x, lr=0.002, steps=5000)\n",
    "plt.plot(losses)"
   ]
  },
  {
   "cell_type": "code",
   "execution_count": null,
   "id": "844bbc42",
   "metadata": {
    "hidden": true
   },
   "outputs": [],
   "source": [
    "predict_ = transform_nonlinear_policy(dyn, dyn_, agent.predict)"
   ]
  },
  {
   "cell_type": "code",
   "execution_count": null,
   "id": "493e535f",
   "metadata": {
    "hidden": true
   },
   "outputs": [],
   "source": [
    "env, env_, env__ = make_env(), make_xform_env(), make_xform_env()"
   ]
  },
  {
   "cell_type": "code",
   "execution_count": null,
   "id": "176bc2a5",
   "metadata": {
    "hidden": true
   },
   "outputs": [],
   "source": [
    "multiple_response_plots([\n",
    "    lambda: plot_env_response(env, env.reset(), control_law=agent, state_idx=(0,1), state_names='xw'),\n",
    "    lambda: plot_env_response(env_, env_.reset(), control_law=agent, state_idx=(0,1), state_names='xw'),\n",
    "    lambda: plot_env_response(env__, env__.reset(), control_law=predict_, state_idx=(0,1), state_names='xw')\n",
    "])"
   ]
  },
  {
   "cell_type": "markdown",
   "id": "660a3f67",
   "metadata": {},
   "source": [
    "# UAV"
   ]
  },
  {
   "cell_type": "code",
   "execution_count": null,
   "id": "473a50c4",
   "metadata": {
    "code_folding": [
     32,
     38,
     81,
     95,
     168,
     201
    ],
    "scrolled": true
   },
   "outputs": [],
   "source": [
    "from systems.base import functions\n",
    "from scripts.opt_pidcontroller import (\n",
    "    get_study as get_study_pid, apply_params as apply_params_pid, run_sim,\n",
    "    get_controller, apply_fault, make_disturbance_fn\n",
    ")\n",
    "from scripts.opt_multirotorenv import apply_params, get_study\n",
    "from systems.multirotor import VP, SP, MultirotorTrajEnv, Multirotor, run_sim, run_trajectory\n",
    "from multirotor.trajectories import Trajectory, eight_curve\n",
    "from multirotor.helpers import DataLog, control_allocation_matrix\n",
    "from multirotor.visualize import plot_datalog, get_wind_quiver, make_drawing\n",
    "\n",
    "ns = functions(use_torch=True)\n",
    "\n",
    "# speeds -> dynamics\n",
    "def f_t(speeds: torch.Tensor, vp=VP):\n",
    "    \"\"\"Forces/torques acting on body given allocated speeds\"\"\"\n",
    "    thrust = torch.zeros(3, len(vp.propellers))\n",
    "    k_th = torch.tensor([p.k_thrust for p in vp.propellers])\n",
    "    thrust[2,:] = k_th * speeds**2\n",
    "    \n",
    "    torque = torch.zeros(3, len(vp.propellers))\n",
    "    k_d = torch.tensor([p.k_drag for p in vp.propellers]).float()\n",
    "    clockwise = torch.tensor(vp.clockwise).float()\n",
    "    positions = torch.tensor(vp.propeller_vectors).float()\n",
    "    tau_xy = torch.linalg.cross(positions.T, thrust.T).T\n",
    "    tau_z = clockwise * k_d * speeds**2\n",
    "    torque[:2,:] = tau_xy[:2, :]\n",
    "    torque[2, :] = tau_z\n",
    "    return thrust.sum(axis=1), torque.sum(axis=1)\n",
    "\n",
    "\n",
    "# dynamics -> state change\n",
    "def dxdt(\n",
    "    forces: np.ndarray, torques: np.ndarray, x: np.ndarray,\n",
    "    g: float=SP.g, mass=VP.mass,\n",
    "    inertia_matrix=torch.from_numpy(VP.inertia_matrix).float(),\n",
    "    inertia_matrix_inverse=torch.from_numpy(VP.inertia_matrix_inverse).float(),\n",
    "    np=ns,\n",
    ") -> torch.Tensor:\n",
    "    \"\"\"Rate of change of state given forces/torques acting on body\"\"\"\n",
    "    \n",
    "    # Store state variables in a readable format\n",
    "    xI = x[0]       # Inertial frame positions\n",
    "    yI = x[1]\n",
    "    zI = x[2]\n",
    "    ub = x[3]       # linear velocity along body-frame-x-axis b1\n",
    "    vb = x[4]       # linear velocity along body-frame-y-axis b2\n",
    "    wb = x[5]       # linear velocity along body-frame-z-axis b3\n",
    "    phi = x[6]      # Roll\n",
    "    theta = x[7]    # Pitch\n",
    "    psi = x[8]      # Yaw\n",
    "    p = x[9]        # body-frame-x-axis rotation rate\n",
    "    q = x[10]       # body-frame-y-axis rotation rate\n",
    "    r = x[11]       # body-frame-z-axis rotation rate\n",
    "    \n",
    "    cphi = np.cos(phi);   sphi = np.sin(phi)    # roll\n",
    "    cthe = np.cos(theta); sthe = np.sin(theta)  # pitch\n",
    "    cpsi = np.cos(psi);   spsi = np.sin(psi)    # yaw\n",
    "    \n",
    "    # Calculate the derivative of the state matrix using EOM\n",
    "    xdot = np.zeros(12, dtype=x.dtype)\n",
    "\n",
    "    xdot[0] = cthe*cpsi*ub + (-cphi * spsi + sphi*sthe*cpsi) * vb + \\\n",
    "        (sphi*spsi+cphi*sthe*cpsi) * wb  # = xIdot \n",
    "    xdot[1] = cthe*spsi * ub + (cphi*cpsi+sphi*sthe*spsi) * vb + \\\n",
    "        (-sphi*cpsi+cphi*sthe*spsi) * wb # = yIdot \n",
    "    xdot[2] = (-sthe * ub + sphi*cthe * vb + cphi*cthe * wb) # = zIdot\n",
    "\n",
    "    xdot[3] = 1/mass * (forces[0])     + g * sthe          + r * vb - q * wb  # = udot\n",
    "    xdot[4] = 1/mass * (forces[1])     - g * sphi * cthe   - r * ub + p * wb # = vdot\n",
    "    xdot[5] = 1/mass * (forces[2])     - g * cphi * cthe   + q * ub - p * vb # = wdot\n",
    "\n",
    "    xdot[6] = p + (q*sphi + r*cphi) * sthe / cthe  # = phidot\n",
    "    xdot[7] = q * cphi - r * sphi  # = thetadot\n",
    "    xdot[8] = (q * sphi + r * cphi) / cthe  # = psidot\n",
    "\n",
    "    gyro = np.cross(x[9:12], inertia_matrix @ x[9:12])\n",
    "    xdot[9:12] = inertia_matrix_inverse @ (torques - gyro)\n",
    "    \n",
    "    return xdot\n",
    "\n",
    "def dxdt_u(speeds: torch.Tensor, x: torch.Tensor, vp=VP, sp=SP,\n",
    "           F_P=torch.eye(12), disturb_forces: torch.Tensor=torch.zeros(3)):\n",
    "    \"\"\"Rate of change of state given propeller speeds.\"\"\"\n",
    "    # speeds = torch.clamp_max(speeds, 700)\n",
    "    f, t = f_t(speeds=speeds, vp=vp)\n",
    "    dx = F_P @ dxdt(\n",
    "        forces=f+disturb_forces, torques=t, x=x,\n",
    "        g=sp.g, mass=vp.mass,\n",
    "        inertia_matrix=torch.from_numpy(vp.inertia_matrix).float(),\n",
    "        inertia_matrix_inverse=torch.from_numpy(vp.inertia_matrix_inverse).float(),\n",
    "        np=ns,\n",
    "    )\n",
    "    return dx\n",
    "\n",
    "def dxdt_du(speeds: np.ndarray, x: np.ndarray, vp=VP, sp=SP,\n",
    "            F_P=torch.eye(12), disturb_forces: torch.Tensor=torch.zeros(3),\n",
    "            dxdt_u=dxdt_u\n",
    "           ):\n",
    "    speeds = torch.as_tensor(speeds).float()\n",
    "    x = torch.as_tensor(x).float()\n",
    "    speeds.requires_grad_(True)\n",
    "    d_du = jacobian(\n",
    "        func=lambda u: dxdt_u(speeds=u, x=x, vp=vp, sp=sp, F_P=F_P, disturb_forces=disturb_forces),\n",
    "        inputs=speeds\n",
    "    )\n",
    "    return d_du\n",
    "\n",
    "def fault_saturation(motor, value):\n",
    "    disabled = nn.functional.one_hot(torch.tensor(motor), 8)\n",
    "    enabled = 1 - disabled\n",
    "    def dxdt_u_(speeds: torch.Tensor, x: torch.Tensor, **kwargs):\n",
    "        speeds = speeds * enabled + (value * disabled)\n",
    "        return dxdt_u(speeds=speeds, x=x, **kwargs)\n",
    "    return dxdt_u_\n",
    "\n",
    "\n",
    "class AdaptiveMultirotor(Multirotor):\n",
    "    def __init__(self, params, simulation,\n",
    "            dxdt_u=dxdt_u, dxdt_u_=dxdt_u, enable=True,\n",
    "            disturbance_fn=lambda m: np.zeros(3),\n",
    "            fault=False\n",
    "    ):\n",
    "        super().__init__(params=params, simulation=simulation)\n",
    "        self.dxdt_u = dxdt_u\n",
    "        self.dxdt_u_ = dxdt_u_ # faulty dxdt\n",
    "        self.disturbance_fn = disturbance_fn\n",
    "        self._enable, self._fault = False, False\n",
    "        self.enable(enable)\n",
    "        if fault:\n",
    "            self.fault(*fault)\n",
    "    def enable(self, enable=True):\n",
    "        self._enable = enable\n",
    "    def fault(self, motor, value):\n",
    "        self._fault = True\n",
    "        self.motor = motor\n",
    "        self.value = value\n",
    "    def allocate_control(self, thrust, torques):\n",
    "        speeds = super().allocate_control(thrust=thrust, torques=torques)\n",
    "        if self._enable:\n",
    "            speeds = torch.from_numpy(speeds)\n",
    "            state = torch.from_numpy(self.state)\n",
    "            disturb_forces = torch.from_numpy(self.disturbance_fn(self))\n",
    "            d_du = dxdt_du(\n",
    "                speeds=speeds, x=state, dxdt_u=self.dxdt_u_,\n",
    "                disturb_forces=disturb_forces\n",
    "            )\n",
    "            delta_u = torch.linalg.pinv(d_du) @  (\n",
    "                self.dxdt_u(speeds,state)\n",
    "                - self.dxdt_u_(speeds, state, disturb_forces=disturb_forces)\n",
    "            )\n",
    "            speeds = delta_u + speeds\n",
    "            speeds = speeds.detach().numpy()\n",
    "        return speeds\n",
    "    def dxdt_speeds(self, t, x, u, disturb_forces=0, disturb_torques=0):\n",
    "        if self._fault:\n",
    "            # motor is stuck at that value\n",
    "            # set to 0 to simulate failure\n",
    "            u[self.motor] = self.value\n",
    "        return super().dxdt_speeds(t, x, u, disturb_forces=disturb_forces)\n",
    "    def step_speeds(self, u: np.ndarray, disturb_forces=0.):\n",
    "        if self._fault:\n",
    "            # motor is stuck at that value\n",
    "            # set to 0 to simulate failure\n",
    "            u[self.motor] = self.value\n",
    "        return super().step_speeds(u, disturb_forces=disturb_forces)\n",
    "\n",
    "\n",
    "def state_traj(x0, policy, n=100, vp=VP, sp=SP, F_P=torch.eye(12)):\n",
    "    x = [torch.as_tensor(x0)]\n",
    "    u = []\n",
    "    for i in trange(n, leave=False):\n",
    "        u.append(policy(x[-1]))\n",
    "        dx = F_P @ dxdt_u(u[-1], x[-1], vp=vp, sp=sp)\n",
    "        x.append((x[-1] + sp.dt * dx).detach())\n",
    "    return torch.stack(x), torch.stack(u).detach()\n",
    "\n",
    "def get_study_agent_params(name):\n",
    "    study = get_study(name)\n",
    "    best_trial = study.best_trial.number\n",
    "    log_root_path = './tensorboard/MultirotorTrajEnv/optstudy/%s/'\n",
    "    best_agent = load_agent((log_root_path + '%03d/run_1/agent') % (name, best_trial))\n",
    "    best_params = study.best_params\n",
    "    return study, best_agent, best_params\n",
    "\n",
    "_, agent, params = get_study_agent_params('MultirotorTrajEnvPIDWind5@0ls')\n",
    "params_pid = get_study_pid('MultirotorPIDls').best_params\n",
    "\n",
    "def get_env(fault=False, wind='0@0', **multirotor_kwargs):\n",
    "    multirotor_kwargs = deepcopy(multirotor_kwargs)\n",
    "    multirotor_kwargs['fault'] = fault\n",
    "    # multirotor_kwargs['disturbance_fn'] = make_disturbance_fn(wind)\n",
    "    env = MultirotorTrajEnv(disturbance_fn=make_disturbance_fn(wind),\n",
    "                            multirotor_class=AdaptiveMultirotor,\n",
    "                            multirotor_kwargs=multirotor_kwargs)\n",
    "    apply_params(env, **params)\n",
    "    env._proximity = 2.\n",
    "    env.ctrl.ctrl_p.square_root_scaling = True\n",
    "    env.ctrl.ctrl_p.leashing = True\n",
    "    return env\n",
    "\n",
    "def reallocate_matrix(params, fault=False, wind='0@0'):\n",
    "    params = deepcopy(params)\n",
    "    if fault:\n",
    "        motor, value = fault\n",
    "        if value==0:\n",
    "            params.propellers[motor].k_thrust = 0\n",
    "            params.propellers[motor].k_drag = 0\n",
    "        else:\n",
    "            kt0, kd0 = params.propellers[motor].k_thrust, params.propellers[motor].k_drag\n",
    "            w_nominal = np.sqrt(params.mass * SP.g / (params.nprops * kt0))\n",
    "            win = np.linspace(max(w_nominal-50,0), w_nominal+50, 50).reshape(-1,1)\n",
    "            f = np.ones(50) * kt0 * value**2\n",
    "            t = np.ones(50) * kd0 * value**2\n",
    "            # f = k * w^2\n",
    "            kth = (np.linalg.pinv(win**2) @ f).item()\n",
    "            kd = (np.linalg.pinv(win**2) @ t).item()\n",
    "            params.propellers[motor].k_thrust, params.propellers[motor].k_drag = kth, kd\n",
    "    return control_allocation_matrix(params)\n",
    "\n",
    "def fault_scenario(adapt=False, supervisor=False, reallocate=False, wind='0@0', fault=False):\n",
    "    env = get_env(dxdt_u=dxdt_u, dxdt_u_=fault_saturation(*fault) if fault else dxdt_u,\n",
    "              enable=adapt, wind=wind, fault=fault)\n",
    "    if not supervisor:\n",
    "        apply_params_pid(env.ctrl, **params_pid)\n",
    "    if reallocate:\n",
    "        env.vehicle.alloc, env.vehicle.alloc_inverse = reallocate_matrix(env.vehicle.params, fault=fault)\n",
    "\n",
    "    wp = eight_curve(a=30)\n",
    "    log = run_trajectory(env, wp, agent if supervisor else None, verbose=False)\n",
    "    return log\n",
    "\n",
    "def plot_log(log: DataLog, fault=False, wind='0@0', params=VP):\n",
    "    axes = plot_datalog(log, plots=('pos', 'vel', 'traj'))\n",
    "    axes['traj'].quiver(*get_wind_quiver(wind, axes['traj']))\n",
    "    arms, *_ = make_drawing(VP, make_2d=True, scale_arms=2)\n",
    "    if fault:\n",
    "        arms[fault[0]].set_color('r')\n",
    "    for a in arms:\n",
    "        axes['traj'].add_line(a)\n",
    "    plt.subplot(2,2,4)\n",
    "    plt.plot(log.t, log.speeds, lw=0.5, ls=':')\n",
    "    plt.title('Allocated Speeds')"
   ]
  },
  {
   "cell_type": "code",
   "execution_count": null,
   "id": "f9b8285b",
   "metadata": {
    "code_folding": [
     0
    ]
   },
   "outputs": [],
   "source": [
    "# gradient of forces/torques w.r.t speeds\n",
    "u = torch.ones(8) * 364\n",
    "u.requires_grad_(True)\n",
    "f,t = f_t(u)\n",
    "d_ft_du = jacobian(\n",
    "    func=lambda u: f_t(speeds=u),\n",
    "    inputs=u\n",
    ")\n",
    "d_ft_du"
   ]
  },
  {
   "cell_type": "code",
   "execution_count": null,
   "id": "8de0dd72",
   "metadata": {
    "code_folding": [
     0
    ]
   },
   "outputs": [],
   "source": [
    "# gradient of dxdt w.r.t (forces, torques)\n",
    "f = torch.zeros(3)\n",
    "f[2] = VP.mass * SP.g\n",
    "f.requires_grad_(True)\n",
    "\n",
    "t = torch.zeros(3)\n",
    "t[0] = 0.01\n",
    "t.requires_grad_(True)\n",
    "\n",
    "ft = torch.cat((f,t))\n",
    "\n",
    "x = torch.zeros(12)\n",
    "\n",
    "d_dxdt_du = jacobian(\n",
    "    func=lambda ft: dxdt(ft[:3], ft[3:], x),\n",
    "    inputs=ft\n",
    ")\n",
    "d_dxdt_du"
   ]
  },
  {
   "cell_type": "code",
   "execution_count": null,
   "id": "350be943",
   "metadata": {
    "code_folding": [
     0,
     1,
     9
    ]
   },
   "outputs": [],
   "source": [
    "# Simple example with takeoff\n",
    "def pi_s(x, *args):\n",
    "    return torch.ones(8)*370\n",
    "\n",
    "F_P = torch.eye(12)\n",
    "vp = deepcopy(VP)\n",
    "vp.propellers[1].k_thrust = 0.\n",
    "vp.propellers[1].k_drag = 0.\n",
    "\n",
    "def pi_t(x, F_P=F_P, pi_s=pi_s, vp=vp, **kwargs):\n",
    "    u_s = pi_s(x)\n",
    "    d_dxdt_du = dxdt_du(speeds=u_s, x=x, vp=vp, F_P=F_P, **kwargs)\n",
    "    delta_u = torch.linalg.pinv(d_dxdt_du) @ (dxdt_u(u_s,x)-dxdt_u(u_s,x,vp=vp,F_P=F_P,**kwargs))\n",
    "    u_t = delta_u + u_s\n",
    "    return u_t.detach()\n",
    "\n",
    "x_s, u_s = state_traj(torch.zeros(12), pi_s, F_P=torch.eye(12))\n",
    "x_p, u_p = state_traj(torch.zeros(12), pi_s, vp=vp, F_P=F_P)\n",
    "x_t, u_t = state_traj(torch.zeros(12), pi_t, vp=vp, F_P=F_P)\n",
    "\n",
    "from matplotlib.gridspec import GridSpec\n",
    "gs = GridSpec(2,3)\n",
    "plt.figure(figsize=(9,3))\n",
    "\n",
    "plt.subplot(gs[:,0])\n",
    "plt.plot(x_s[:,2], label='Nominal')\n",
    "plt.plot(x_p[:,2], label='Pre-Adaptation')\n",
    "plt.plot(x_t[:,2], label='Adapted')\n",
    "plt.ylim(-3,1)\n",
    "plt.ylabel('z /m')\n",
    "plt.legend()\n",
    "\n",
    "plt.subplot(gs[0,1])\n",
    "plt.plot(u_s, ls=':')\n",
    "plt.title('Nominal speeds')\n",
    "\n",
    "plt.subplot(gs[1,1])\n",
    "lines = []\n",
    "for i, u in enumerate(u_t.T):\n",
    "    l, = plt.plot(u, ls=':', label=str(i))\n",
    "    lines.append(l)\n",
    "plt.title('Adapted speeds')\n",
    "plt.ylabel('Speeds rad/s')\n",
    "\n",
    "plt.subplot(gs[0,2])\n",
    "arms, *_ = make_drawing(VP, make_2d=True, scale_arms=2)\n",
    "arms[1].set_color('r')\n",
    "for i, a in enumerate(arms):\n",
    "    plt.gca().add_line(a)\n",
    "    plt.text(a.get_xdata()[1], a.get_ydata()[1], str(i))\n",
    "plt.xlim(-1.5,1.5)\n",
    "plt.ylim(-1.5,1.5)\n",
    "plt.gca().set_aspect('equal')\n",
    "plt.gca().set_axis_off()\n",
    "plt.tight_layout()\n",
    "\n",
    "plt.subplot(gs[1,2])\n",
    "plt.legend(handles=lines, ncol=3)\n",
    "plt.gca().set_axis_off()"
   ]
  },
  {
   "cell_type": "code",
   "execution_count": null,
   "id": "9f0a0995",
   "metadata": {
    "code_folding": [
     0
    ]
   },
   "outputs": [],
   "source": [
    "# Using Multirotor\n",
    "adapt = True\n",
    "reallocate = False\n",
    "wind = False\n",
    "fault = True\n",
    "\n",
    "m = Multirotor(VP, SP) # nominal initialization/allocation\n",
    "ctrl = get_controller(m)\n",
    "ctrl.ctrl_p.leashing = True\n",
    "ctrl.ctrl_p.square_root_scaling = True\n",
    "apply_params_pid(ctrl, **params_pid)\n",
    "wp = np.asarray([\n",
    "    [10,0,0],[10,10,0],[0,10,0],[0,0,0]\n",
    "]) * 5\n",
    "traj = Trajectory(m, wp, proximity=2)\n",
    "log = DataLog(m, ctrl, other_vars=('speeds',))\n",
    "\n",
    "disturb_forces = np.asarray([-10, 0, 0], np.float32) * wind\n",
    "if fault: apply_fault(m, '1@1')\n",
    "if reallocate:\n",
    "    m.alloc, m.alloc_inverse = control_allocation_matrix(m.params)\n",
    "\n",
    "i, N = 0, 2_000\n",
    "for pos, _ in tqdm(traj, total=N, leave=False):\n",
    "    ref = np.asarray([*pos, 0])\n",
    "    dynamics = ctrl.step(ref)\n",
    "    speeds = m.allocate_control(dynamics[0], dynamics[1:]) # nominal policy\n",
    "    if adapt:\n",
    "        speeds = pi_t(\n",
    "            torch.from_numpy(m.state),\n",
    "            pi_s=lambda _: speeds,\n",
    "            vp=m.params,\n",
    "            disturb_forces=torch.from_numpy(disturb_forces)\n",
    "        ).numpy()\n",
    "    speeds = np.clip(speeds, a_min=0, a_max=700)\n",
    "    m.step_speeds(speeds, disturb_forces=disturb_forces)\n",
    "    log.log(speeds=speeds)\n",
    "    i += 1\n",
    "    if i==N: break\n",
    "log.done_logging()\n",
    "plot_datalog(log)"
   ]
  },
  {
   "cell_type": "code",
   "execution_count": null,
   "id": "1514cdf5",
   "metadata": {
    "code_folding": [
     0
    ],
    "scrolled": false
   },
   "outputs": [],
   "source": [
    "# Using AdaptiveMultirotor\n",
    "adapt = False\n",
    "reallocate = True\n",
    "wind = '0@0'\n",
    "fault = (1,0)\n",
    "\n",
    "m = AdaptiveMultirotor(\n",
    "    VP, SP,\n",
    "    dxdt_u=dxdt_u,\n",
    "    dxdt_u_=fault_saturation(*fault) if fault else dxdt_u,\n",
    "    enable=adapt,\n",
    "    disturbance_fn=make_disturbance_fn(wind),\n",
    "    fault=fault\n",
    ")\n",
    "\n",
    "if reallocate:\n",
    "    m.alloc, m.alloc_inverse = reallocate_matrix(m.params, fault=fault)\n",
    "ctrl = get_controller(m)\n",
    "apply_params_pid(ctrl, **params_pid)\n",
    "ctrl.ctrl_p.leashing = True\n",
    "ctrl.ctrl_p.square_root_scaling = True\n",
    "wp = eight_curve(a=30)\n",
    "traj = Trajectory(m, wp, proximity=2)\n",
    "log = DataLog(m, ctrl, other_vars=('speeds',))\n",
    "\n",
    "i, N = 0, 2_000\n",
    "for pos, _ in tqdm(traj, total=N, leave=False):\n",
    "    ref = np.asarray([*pos, 0])\n",
    "    dynamics = ctrl.step(ref)\n",
    "    speeds = m.allocate_control(dynamics[0], dynamics[1:])\n",
    "    speeds = np.clip(speeds, a_min=0, a_max=700)\n",
    "    m.step_speeds(speeds, disturb_forces=m.disturbance_fn(m))\n",
    "    log.log(speeds=speeds)\n",
    "    i += 1\n",
    "    if i==N: break\n",
    "log.done_logging()\n",
    "plot_datalog(log)"
   ]
  },
  {
   "cell_type": "code",
   "execution_count": null,
   "id": "90364331",
   "metadata": {
    "code_folding": [
     0
    ],
    "scrolled": false
   },
   "outputs": [],
   "source": [
    "# Using MultirotorTrajEnv with AdaptiveMultirotor\n",
    "adapt = True\n",
    "supervisor = True\n",
    "reallocate = False\n",
    "wind = '5@0'\n",
    "fault = (1,250)\n",
    "\n",
    "env = get_env(dxdt_u=dxdt_u, dxdt_u_=fault_saturation(*fault) if fault else dxdt_u,\n",
    "              enable=adapt, wind=wind, fault=fault)\n",
    "if not supervisor:\n",
    "    apply_params_pid(env.ctrl, **params_pid)\n",
    "if reallocate:\n",
    "    env.vehicle.alloc, env.vehicle.alloc_inverse = reallocate_matrix(env.vehicle.params, fault=fault)\n",
    "\n",
    "env.ctrl.ctrl_a.k_p[2] = 1. * env.ctrl.ctrl_a.k_p[0]\n",
    "env.ctrl.ctrl_a.k_d[2] = 0. * env.ctrl.ctrl_a.k_d[0]\n",
    "env.ctrl.ctrl_r.k_p[2] = 1. * env.ctrl.ctrl_r.k_p[0]\n",
    "env.ctrl.ctrl_r.k_d[2] = 0.5 * env.ctrl.ctrl_r.k_d[0]\n",
    "env.ctrl.ctrl_r.max_acceleration[2] = 0.25*env.ctrl.ctrl_r.max_acceleration[0]\n",
    "    \n",
    "wp = eight_curve(a=30)\n",
    "log = run_trajectory(env, wp, agent if supervisor else env.ctrl, verbose=False)\n",
    "plot_log(log, fault, wind)"
   ]
  },
  {
   "cell_type": "code",
   "execution_count": null,
   "id": "57d25632",
   "metadata": {},
   "outputs": [],
   "source": [
    "sl = slice(-30,None,1)\n",
    "plt.figure(figsize=(9,4))\n",
    "plt.subplot(1,2,1)\n",
    "D = env.vehicle.alloc @ (log.speeds.T**2)\n",
    "plt.plot(log.actions[sl,2], label='Allocated')\n",
    "plt.plot(D[2, sl], label='Actual')\n",
    "plt.legend()\n",
    "plt.twinx()\n",
    "plt.plot(log.pitch[sl] * 180 / np.pi, ls=':', c='y')\n",
    "plt.subplot(1,2,2)\n",
    "plt.plot(log.speeds[sl,:]);\n",
    "plt.tight_layout()"
   ]
  },
  {
   "cell_type": "code",
   "execution_count": null,
   "id": "3e5a8a94",
   "metadata": {
    "code_folding": [
     0
    ]
   },
   "outputs": [],
   "source": [
    "# prediction errors\n",
    "kths = []\n",
    "errs = []\n",
    "w_nominal = np.sqrt(VP.mass * SP.g / (VP.nprops * kt0))\n",
    "ws = np.linspace(0, 450, 50)\n",
    "kt0, kd0 = VP.propellers[motor].k_thrust, VP.propellers[motor].k_drag\n",
    "for value in ws:\n",
    "    win = np.linspace(max(value-50,0), value+50, 50).reshape(-1,1)\n",
    "    f = np.ones(50) * kt0 * value**2\n",
    "    t = np.ones(50) * kd0 * value**2\n",
    "    # f = k * w^2\n",
    "    kth = (np.linalg.pinv(win**2) @ f).item()\n",
    "    kd = (np.linalg.pinv(win**2) @ t).item()\n",
    "    kths.append(kth)\n",
    "    err = np.abs(kth * ws**2 - f).mean()\n",
    "    errs.append(err)\n",
    "\n",
    "plt.figure(figsize=(9,3))\n",
    "plt.subplot(1,2,1)\n",
    "n = 5\n",
    "kth = kths[n]\n",
    "value = ws[n]\n",
    "win = np.linspace(max(value-50,0), value+50, 50).reshape(-1,1)\n",
    "plt.plot(ws[:10], kt0 * value**2 * np.ones_like(ws[:10]), label='Actual (saturated)')\n",
    "plt.plot(ws[:10], kt0 * ws[:10]**2, label='Nominal prediction')\n",
    "plt.plot(ws[:10], kth * ws[:10]**2, label='Approximated')\n",
    "plt.legend()\n",
    "plt.title('$k_{thrust,sat}$ for $\\Omega=45 rad\\;s^{-1}$')\n",
    "plt.ylabel('$F_z$')\n",
    "plt.xlabel('Motor speed $\\Omega\\;/rad\\;s^{-1}$')\n",
    "plt.subplot(1,2,2)\n",
    "l = plt.plot(ws, kths, label='$k_{thrust,sat}$')\n",
    "plt.ylabel('$k_{thrust}$')\n",
    "plt.xlabel('Motor speed $\\Omega\\;/rad\\;s^{-1}$')\n",
    "plt.twinx()\n",
    "plt.plot(ws, errs, ls=':', c='r', label='Prediction error')\n",
    "plt.ylabel('Mean absolute error in $F_z$')\n",
    "plt.title('$k_{thrust,sat}$ & error for $\\Omega=[0,450] rad\\;s^{-1}$')\n",
    "plt.legend(handles=l+plt.gca().lines)\n",
    "plt.tight_layout()"
   ]
  },
  {
   "cell_type": "code",
   "execution_count": null,
   "id": "c6ee4586",
   "metadata": {
    "code_folding": [
     0
    ]
   },
   "outputs": [],
   "source": [
    "# Wind vs fault rewards \n",
    "adapt = True\n",
    "supervisor = False\n",
    "reallocate = False\n",
    "logs = []\n",
    "wp = eight_curve()\n",
    "\n",
    "winds = list(range(5))\n",
    "motors = list(range(8))\n",
    "R = np.zeros((len(winds), len(motors)))\n",
    "\n",
    "for w in tqdm(winds, desc='wind /N', leave=False):\n",
    "    logs.append([])\n",
    "    wind = '%d@90' % w\n",
    "    for m in tqdm(motors, desc='motor', leave = False):\n",
    "        fault = (m, 0) # failure\n",
    "        env = get_env(dxdt_u=dxdt_u, dxdt_u_=fault_saturation(*fault) if fault else dxdt_u,\n",
    "              enable=adapt, wind=wind, fault=fault)\n",
    "        if not supervisor:\n",
    "            apply_params_pid(env.ctrl, **params_pid)\n",
    "        if reallocate:\n",
    "            env.vehicle.alloc_inverse, env.vehicle.alloc = reallocate_matrix(env.vehicle.params, fault=fault)\n",
    "\n",
    "        wp = eight_curve(a=-50)\n",
    "        log = run_trajectory(env, wp, agent if supervisor else None, verbose=False)\n",
    "        logs[-1].append(log)\n",
    "        R[w,m] = log.reward.sum()\n",
    "\n",
    "ax = plt.imshow(R)\n",
    "plt.xlabel('Motor')\n",
    "plt.ylabel('Wind Force /N')\n",
    "plt.colorbar(ax, orientation='horizontal')\n",
    "plt.title('Robustness to novel disturbances & motor failure')"
   ]
  },
  {
   "cell_type": "markdown",
   "id": "ba3ca7d2",
   "metadata": {},
   "source": [
    "# EKF"
   ]
  },
  {
   "cell_type": "code",
   "execution_count": null,
   "id": "81924495",
   "metadata": {},
   "outputs": [],
   "source": [
    "# https://github.com/rlabbe/Kalman-and-Bayesian-Filters-in-Python/blob/master/11-Extended-Kalman-Filters.ipynb\n",
    "from filterpy.common import Q_discrete_white_noise\n",
    "from filterpy.kalman import ExtendedKalmanFilter\n",
    "import numpy as np\n",
    "\n",
    "dt = env.vehicle.simulation.dt\n",
    "rk = ExtendedKalmanFilter(dim_x=12, dim_z=4)\n",
    "radar = RadarSim(dt, pos=0., vel=100., alt=1000.)\n",
    "\n",
    "# make an imperfect starting guess\n",
    "rk.x = env.reset()\n",
    "\n",
    "# d(dx/dt)/dx\n",
    "rk.F = \n",
    "\n",
    "range_std = 5. # meters\n",
    "# Process noise matrix (state variables)\n",
    "rk.Q = Q_discrete_white_noise(12, dt=dt, var=0.1)\n",
    "# Measurement noise matrix (output)\n",
    "rk.R = rk.Q\n",
    "rk.P *= 50\n",
    "\n",
    "xs, track = [], []\n",
    "for i in range(int(20/dt)):\n",
    "    # get measurement\n",
    "    z = radar.get_range()\n",
    "    track.append((radar.pos, radar.vel, radar.alt))\n",
    "    \n",
    "    rk.update(array([z]), HJacobian_at, hx)\n",
    "    xs.append(rk.x)\n",
    "    rk.predict()\n",
    "\n",
    "xs = np.asarray(xs)\n",
    "track = asarray(track)\n",
    "time = np.arange(0, len(xs)*dt, dt)\n",
    "ekf_internal.plot_radar(xs, track, time)"
   ]
  }
 ],
 "metadata": {
  "kernelspec": {
   "display_name": "Python 3",
   "language": "python",
   "name": "python3"
  },
  "language_info": {
   "codemirror_mode": {
    "name": "ipython",
    "version": 3
   },
   "file_extension": ".py",
   "mimetype": "text/x-python",
   "name": "python",
   "nbconvert_exporter": "python",
   "pygments_lexer": "ipython3",
   "version": "3.7.4"
  }
 },
 "nbformat": 4,
 "nbformat_minor": 5
}
